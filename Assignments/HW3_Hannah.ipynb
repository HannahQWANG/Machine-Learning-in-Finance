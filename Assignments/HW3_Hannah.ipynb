{
 "cells": [
  {
   "cell_type": "markdown",
   "metadata": {},
   "source": [
    "# Import"
   ]
  },
  {
   "cell_type": "code",
   "execution_count": 4,
   "metadata": {
    "ExecuteTime": {
     "end_time": "2019-05-09T01:24:10.511519Z",
     "start_time": "2019-05-09T01:24:09.455161Z"
    }
   },
   "outputs": [],
   "source": [
    "import pandas as pd\n",
    "import numpy as np\n",
    "import matplotlib.pyplot as plt\n",
    "%matplotlib inline\n",
    "from sklearn.metrics import accuracy_score, confusion_matrix\n",
    "from sklearn.tree import DecisionTreeClassifier\n",
    "from sklearn.ensemble import AdaBoostClassifier,RandomForestClassifier\n",
    "pd.set_option('use_inf_as_na', True)\n",
    "from collections import Counter\n",
    "import pickle\n",
    "from functools import partial"
   ]
  },
  {
   "cell_type": "code",
   "execution_count": 5,
   "metadata": {},
   "outputs": [],
   "source": [
    "from sklearn.preprocessing import MinMaxScaler,StandardScaler\n",
    "scaler = StandardScaler()"
   ]
  },
  {
   "cell_type": "code",
   "execution_count": 6,
   "metadata": {
    "ExecuteTime": {
     "end_time": "2019-05-09T01:24:15.386302Z",
     "start_time": "2019-05-09T01:24:14.294223Z"
    }
   },
   "outputs": [],
   "source": [
    "raw_data = pd.read_pickle('../data/dataset.pkl')\n",
    "\n",
    "data = raw_data[raw_data['market_cap'] > 1000.0]\n",
    "data = data.copy()\n",
    "data.fillna(0.0,inplace=True)"
   ]
  },
  {
   "cell_type": "markdown",
   "metadata": {},
   "source": [
    "### original label"
   ]
  },
  {
   "cell_type": "code",
   "execution_count": 7,
   "metadata": {
    "ExecuteTime": {
     "end_time": "2019-05-09T01:24:15.392285Z",
     "start_time": "2019-05-09T01:24:15.388295Z"
    }
   },
   "outputs": [],
   "source": [
    "def f(x):\n",
    "\n",
    "    if x > 0.01:\n",
    "        return 1\n",
    "    elif x < -0.025:\n",
    "\n",
    "        return -1\n",
    "    \n",
    "\n",
    "    else:\n",
    "    \n",
    "        return 0"
   ]
  },
  {
   "cell_type": "code",
   "execution_count": 8,
   "metadata": {
    "ExecuteTime": {
     "end_time": "2019-05-07T20:39:40.979844Z",
     "start_time": "2019-05-07T20:39:40.883407Z"
    }
   },
   "outputs": [],
   "source": [
    "data['rel_performance'] = data['pred_rel_return'].apply(f)\n",
    "data.reset_index(inplace=True,)\n",
    "data.set_index('date',inplace=True)"
   ]
  },
  {
   "cell_type": "markdown",
   "metadata": {},
   "source": [
    "# Use Optuna to find hyper-parameters for the training period 2001-01-01 to 2004-01-01"
   ]
  },
  {
   "cell_type": "code",
   "execution_count": 9,
   "metadata": {},
   "outputs": [],
   "source": [
    "df_1 = data.loc['2001-01-01':'2004-01-01']\n",
    "df_valid = data.loc['2004-01-01':'2004-04-01']\n",
    "df_test = data.loc['2004-04-01':'2004-07-01']"
   ]
  },
  {
   "cell_type": "code",
   "execution_count": 10,
   "metadata": {},
   "outputs": [],
   "source": [
    "train_1 = df_1.reset_index().drop(['ticker','date',\n",
    "                                   'next_period_return',\n",
    "                                   'spy_next_period_return',\n",
    "                                   'rel_performance','pred_rel_return',\n",
    "                                  'return', 'cum_ret', 'spy_cum_ret'],axis=1)\n",
    "\n",
    "valid = df_valid.reset_index().drop(['ticker','date',\n",
    "                                    'next_period_return',\n",
    "                                   'spy_next_period_return',\n",
    "                                   'rel_performance','pred_rel_return',\n",
    "                                  'return', 'cum_ret', 'spy_cum_ret'],axis=1)\n",
    "test = df_test.reset_index().drop(['ticker','date',\n",
    "                                   'next_period_return',\n",
    "                                   'spy_next_period_return',\n",
    "                                   'rel_performance','pred_rel_return',\n",
    "                                  'return', 'cum_ret', 'spy_cum_ret'],axis=1)"
   ]
  },
  {
   "cell_type": "code",
   "execution_count": 11,
   "metadata": {},
   "outputs": [],
   "source": [
    "train_1_stock_returns = df_1['next_period_return']\n",
    "valid_stock_returns = df_valid['next_period_return']\n",
    "test_stock_returns = df_test['next_period_return']\n",
    "\n",
    "y_1 = df_1['rel_performance']\n",
    "y_valid = df_valid['rel_performance']\n",
    "y_test = df_test['rel_performance']\n",
    "\n",
    "y_1 = y_1.values\n",
    "y_valid = y_valid.values\n",
    "y_test = y_test.values"
   ]
  },
  {
   "cell_type": "code",
   "execution_count": 12,
   "metadata": {},
   "outputs": [],
   "source": [
    "import optuna\n",
    "from optuna.trial import Trial\n",
    "optuna.logging.set_verbosity(optuna.logging.FATAL)\n",
    "import warnings\n",
    "warnings.filterwarnings(\"ignore\")"
   ]
  },
  {
   "cell_type": "markdown",
   "metadata": {},
   "source": [
    "### Using accuracy as Optuna objective"
   ]
  },
  {
   "cell_type": "code",
   "execution_count": 13,
   "metadata": {},
   "outputs": [],
   "source": [
    "def objective(trial:Trial,train=None,labels=None,val=None,val_labels=None,val_rets=None):\n",
    "\n",
    "    ada_m_depth = trial.suggest_int('max_depth',1,3,step=1)\n",
    "    ada_n_estimators = trial.suggest_int('n_estimators', 10,100,step=10)\n",
    "    ada_learning_rate = trial.suggest_float('learning_rate',0.1,0.5, step=0.1)\n",
    "\n",
    "    \n",
    "    ada_clf = AdaBoostClassifier(DecisionTreeClassifier(max_depth=ada_m_depth),\n",
    "                                 n_estimators=ada_n_estimators,\n",
    "                                 learning_rate=ada_learning_rate,\n",
    "                                 algorithm=\"SAMME.R\")\n",
    "\n",
    "    ada_clf.fit(train,labels)\n",
    "    preds = ada_clf.predict(val)\n",
    "    accuracy = ada_clf.score(val,val_labels)\n",
    " \n",
    "    return accuracy\n"
   ]
  },
  {
   "cell_type": "code",
   "execution_count": 26,
   "metadata": {
    "ExecuteTime": {
     "end_time": "2019-05-08T00:35:01.034868Z",
     "start_time": "2019-05-08T00:35:01.019241Z"
    }
   },
   "outputs": [],
   "source": [
    "study = optuna.create_study(direction=\"maximize\")\n",
    "from functools import partial"
   ]
  },
  {
   "cell_type": "code",
   "execution_count": 28,
   "metadata": {
    "scrolled": true
   },
   "outputs": [
    {
     "name": "stdout",
     "output_type": "stream",
     "text": [
      "CPU times: user 6min 47s, sys: 7.39 s, total: 6min 54s\n",
      "Wall time: 48.4 s\n"
     ]
    }
   ],
   "source": [
    "%%time\n",
    "study.optimize(partial(objective,train=train_1,labels=y_1,val=valid,val_labels=y_valid,val_rets=valid_stock_returns), n_trials=20,n_jobs=-1)"
   ]
  },
  {
   "cell_type": "code",
   "execution_count": 29,
   "metadata": {},
   "outputs": [
    {
     "data": {
      "text/plain": [
       "{'max_depth': 3, 'n_estimators': 80, 'learning_rate': 0.5}"
      ]
     },
     "execution_count": 29,
     "metadata": {},
     "output_type": "execute_result"
    }
   ],
   "source": [
    "study.best_params"
   ]
  },
  {
   "cell_type": "code",
   "execution_count": 30,
   "metadata": {},
   "outputs": [],
   "source": [
    "best_params_accuracy = {'n_estimators': 80, 'learning_rate': 0.5}"
   ]
  },
  {
   "cell_type": "code",
   "execution_count": null,
   "metadata": {},
   "outputs": [],
   "source": [
    "#havne't run this but may use this"
   ]
  },
  {
   "cell_type": "code",
   "execution_count": 58,
   "metadata": {},
   "outputs": [
    {
     "data": {
      "text/plain": [
       "{'max_depth': 3, 'n_estimators': 10, 'learning_rate': 0.5}"
      ]
     },
     "execution_count": 58,
     "metadata": {},
     "output_type": "execute_result"
    }
   ],
   "source": [
    "study.best_params"
   ]
  },
  {
   "cell_type": "code",
   "execution_count": 59,
   "metadata": {},
   "outputs": [],
   "source": [
    "best_params = {'n_estimators': 10, 'learning_rate': 0.5}"
   ]
  },
  {
   "cell_type": "code",
   "execution_count": null,
   "metadata": {},
   "outputs": [],
   "source": [
    "#havne't run this but may use this"
   ]
  },
  {
   "cell_type": "markdown",
   "metadata": {},
   "source": [
    "# Use the included 3 sets of optimal features over the holding period 2003-2018 and an AdaBoostClassifier"
   ]
  },
  {
   "cell_type": "code",
   "execution_count": 32,
   "metadata": {
    "ExecuteTime": {
     "end_time": "2020-02-11T00:59:21.882803Z",
     "start_time": "2020-02-11T00:59:21.859799Z"
    }
   },
   "outputs": [],
   "source": [
    "start_dates = [pd.to_datetime('2001-01-01') + pd.DateOffset(months = 3*i) for i in range(57)]\n",
    "end_dates = [d + pd.DateOffset(months = 36) for d in start_dates]"
   ]
  },
  {
   "cell_type": "code",
   "execution_count": 33,
   "metadata": {
    "ExecuteTime": {
     "end_time": "2020-02-11T01:00:06.107690Z",
     "start_time": "2020-02-11T01:00:06.050640Z"
    }
   },
   "outputs": [],
   "source": [
    "training_frames = [data.loc[d:d+pd.DateOffset(months = 36)] for d in start_dates]\n",
    "valid_frames = [data.loc[d:d+pd.DateOffset(months = 3)] for d in end_dates]\n",
    "test_frames = [data.loc[d+pd.DateOffset(months = 6):d+pd.DateOffset(months = 9)] for d in end_dates]"
   ]
  },
  {
   "cell_type": "code",
   "execution_count": 34,
   "metadata": {
    "ExecuteTime": {
     "end_time": "2020-02-11T01:00:20.984116Z",
     "start_time": "2020-02-11T01:00:11.072616Z"
    }
   },
   "outputs": [],
   "source": [
    "training_data = [d.reset_index().drop\n",
    "                                 (['ticker','date',\n",
    "                                   'next_period_return',\n",
    "                                   'spy_next_period_return',\n",
    "                                   'rel_performance','pred_rel_return',\n",
    "                                  'return', 'cum_ret', 'spy_cum_ret'],axis=1) for d in training_frames]"
   ]
  },
  {
   "cell_type": "code",
   "execution_count": 35,
   "metadata": {},
   "outputs": [],
   "source": [
    "valid_data = [d.reset_index().drop\n",
    "                                 (['ticker','date',\n",
    "                                   'next_period_return',\n",
    "                                   'spy_next_period_return',\n",
    "                                   'rel_performance','pred_rel_return',\n",
    "                                  'return', 'cum_ret', 'spy_cum_ret'],axis=1) for d in valid_frames]"
   ]
  },
  {
   "cell_type": "code",
   "execution_count": 36,
   "metadata": {
    "ExecuteTime": {
     "end_time": "2020-02-11T01:00:22.138142Z",
     "start_time": "2020-02-11T01:00:20.986086Z"
    }
   },
   "outputs": [],
   "source": [
    "test_data = [d.reset_index().drop(['ticker','date',\n",
    "                                   'next_period_return',\n",
    "                                   'spy_next_period_return',\n",
    "                                   'rel_performance','pred_rel_return',\n",
    "                                  'return', 'cum_ret', 'spy_cum_ret'],axis=1) for d in test_frames]"
   ]
  },
  {
   "cell_type": "code",
   "execution_count": 37,
   "metadata": {
    "ExecuteTime": {
     "end_time": "2020-02-11T01:00:28.172336Z",
     "start_time": "2020-02-11T01:00:28.162322Z"
    }
   },
   "outputs": [],
   "source": [
    "training_labels = [d['rel_performance'].values for d in training_frames]\n",
    "valid_labels = [d['rel_performance'].values for d in valid_frames] "
   ]
  },
  {
   "cell_type": "code",
   "execution_count": 38,
   "metadata": {},
   "outputs": [],
   "source": [
    "for i in range(len(start_dates)-1):\n",
    "    float_vars = [x for x in training_data[i].columns if data[x].dtype == 'float64']\n",
    "\n",
    "    scaler = StandardScaler()\n",
    "    training_data[i] = training_data[i].copy()\n",
    "    valid_data[i] = valid_data[i].copy()\n",
    "    test_data[i] = test_data[i].copy()\n",
    "    training_data[i][float_vars] = scaler.fit_transform(training_data[i][float_vars])\n",
    "    valid_data[i][float_vars] = scaler.transform(valid_data[i][float_vars])\n",
    "    test_data[i][float_vars] = scaler.transform(test_data[i][float_vars])\n",
    "        \n",
    "    "
   ]
  },
  {
   "cell_type": "code",
   "execution_count": 54,
   "metadata": {},
   "outputs": [],
   "source": [
    "#fit in best hyper-params we found\n",
    "ada_clf = AdaBoostClassifier(DecisionTreeClassifier(max_depth=3),n_estimators=10,learning_rate=0.5)"
   ]
  },
  {
   "cell_type": "code",
   "execution_count": 42,
   "metadata": {
    "ExecuteTime": {
     "end_time": "2020-02-11T00:30:26.233418Z",
     "start_time": "2020-02-11T00:30:26.207352Z"
    }
   },
   "outputs": [],
   "source": [
    "def adaboost_feat_importances(m, df):\n",
    "        \n",
    "    return pd.DataFrame({'cols':df.columns, 'feat_imp': m.feature_importances_}\n",
    "                       ).sort_values('feat_imp', ascending=False)"
   ]
  },
  {
   "cell_type": "code",
   "execution_count": 43,
   "metadata": {},
   "outputs": [],
   "source": [
    "def model(features):\n",
    "    tree_features = features[features.columns[:-1].values]\n",
    "\n",
    "    pred = ada_clf.predict(tree_features)\n",
    "\n",
    "    ret = pred * features[features.columns[-1]]\n",
    "\n",
    "    return ret"
   ]
  },
  {
   "cell_type": "code",
   "execution_count": 44,
   "metadata": {},
   "outputs": [],
   "source": [
    "import shap"
   ]
  },
  {
   "cell_type": "code",
   "execution_count": 45,
   "metadata": {},
   "outputs": [],
   "source": [
    "shap_features = []"
   ]
  },
  {
   "cell_type": "markdown",
   "metadata": {},
   "source": [
    "### 以下直接读pickle========================================="
   ]
  },
  {
   "cell_type": "markdown",
   "metadata": {},
   "source": [
    "## Using shap_features_ada"
   ]
  },
  {
   "cell_type": "code",
   "execution_count": 48,
   "metadata": {},
   "outputs": [],
   "source": [
    "shap_features_00 = pd.read_pickle('shap_features_ada.pkl')"
   ]
  },
  {
   "cell_type": "code",
   "execution_count": 49,
   "metadata": {
    "ExecuteTime": {
     "end_time": "2020-02-11T01:00:33.994294Z",
     "start_time": "2020-02-11T01:00:33.869286Z"
    }
   },
   "outputs": [],
   "source": [
    "scalers = [StandardScaler() for i in range(len(start_dates)-1)]\n",
    "           \n",
    "opt_training_data_00 = [pd.DataFrame(scalers[i].fit_transform(training_frames[i][shap_features_00[i]].values),columns=shap_features_00[i]) for i in range(len(start_dates)-1)]\n",
    "opt_valid_data_00 = [pd.DataFrame(scalers[i].fit_transform(training_frames[i][shap_features_00[i]].values),columns=shap_features_00[i]) for i in range(len(start_dates)-1)]\n",
    "opt_test_data_00 = [pd.DataFrame(scalers[i].transform(test_frames[i][shap_features_00[i]].values),columns=shap_features_00[i]) for i in range(len(start_dates)-1)]"
   ]
  },
  {
   "cell_type": "code",
   "execution_count": 50,
   "metadata": {},
   "outputs": [
    {
     "data": {
      "text/html": [
       "<div>\n",
       "<style scoped>\n",
       "    .dataframe tbody tr th:only-of-type {\n",
       "        vertical-align: middle;\n",
       "    }\n",
       "\n",
       "    .dataframe tbody tr th {\n",
       "        vertical-align: top;\n",
       "    }\n",
       "\n",
       "    .dataframe thead th {\n",
       "        text-align: right;\n",
       "    }\n",
       "</style>\n",
       "<table border=\"1\" class=\"dataframe\">\n",
       "  <thead>\n",
       "    <tr style=\"text-align: right;\">\n",
       "      <th></th>\n",
       "      <th>cfmq</th>\n",
       "      <th>epspi12</th>\n",
       "      <th>oeps12</th>\n",
       "      <th>curr_ratioq</th>\n",
       "      <th>market_cap</th>\n",
       "      <th>cfo-per-share</th>\n",
       "      <th>capeiq</th>\n",
       "      <th>fcf_yield</th>\n",
       "      <th>pe_incq</th>\n",
       "      <th>fcf_csfhdq</th>\n",
       "      <th>...</th>\n",
       "      <th>cf_yield</th>\n",
       "      <th>quick_ratioq</th>\n",
       "      <th>dpcq</th>\n",
       "      <th>epsx12</th>\n",
       "      <th>roceq</th>\n",
       "      <th>niq</th>\n",
       "      <th>oibdpy</th>\n",
       "      <th>psq</th>\n",
       "      <th>opmadq</th>\n",
       "      <th>accrualq</th>\n",
       "    </tr>\n",
       "  </thead>\n",
       "  <tbody>\n",
       "    <tr>\n",
       "      <th>0</th>\n",
       "      <td>0.042424</td>\n",
       "      <td>-0.023103</td>\n",
       "      <td>-0.034056</td>\n",
       "      <td>0.884780</td>\n",
       "      <td>0.017999</td>\n",
       "      <td>-0.521710</td>\n",
       "      <td>0.007903</td>\n",
       "      <td>-0.198007</td>\n",
       "      <td>-0.039181</td>\n",
       "      <td>-0.217266</td>\n",
       "      <td>...</td>\n",
       "      <td>-0.642707</td>\n",
       "      <td>0.943761</td>\n",
       "      <td>-0.176471</td>\n",
       "      <td>-0.028186</td>\n",
       "      <td>-0.017654</td>\n",
       "      <td>-0.039094</td>\n",
       "      <td>-0.256591</td>\n",
       "      <td>-0.304201</td>\n",
       "      <td>0.030452</td>\n",
       "      <td>-0.248751</td>\n",
       "    </tr>\n",
       "    <tr>\n",
       "      <th>1</th>\n",
       "      <td>0.021683</td>\n",
       "      <td>-0.312222</td>\n",
       "      <td>-0.151559</td>\n",
       "      <td>-0.179459</td>\n",
       "      <td>-0.197034</td>\n",
       "      <td>0.173893</td>\n",
       "      <td>0.008470</td>\n",
       "      <td>-0.406912</td>\n",
       "      <td>-0.954300</td>\n",
       "      <td>-0.356346</td>\n",
       "      <td>...</td>\n",
       "      <td>2.737811</td>\n",
       "      <td>-0.086185</td>\n",
       "      <td>0.063208</td>\n",
       "      <td>-0.166539</td>\n",
       "      <td>-0.136048</td>\n",
       "      <td>-0.686419</td>\n",
       "      <td>0.548765</td>\n",
       "      <td>0.002336</td>\n",
       "      <td>0.025103</td>\n",
       "      <td>1.121090</td>\n",
       "    </tr>\n",
       "    <tr>\n",
       "      <th>2</th>\n",
       "      <td>0.017178</td>\n",
       "      <td>0.009852</td>\n",
       "      <td>-0.011540</td>\n",
       "      <td>0.019710</td>\n",
       "      <td>-0.223365</td>\n",
       "      <td>-0.185520</td>\n",
       "      <td>0.017206</td>\n",
       "      <td>-0.016963</td>\n",
       "      <td>0.077526</td>\n",
       "      <td>-0.111938</td>\n",
       "      <td>...</td>\n",
       "      <td>-0.108673</td>\n",
       "      <td>-0.317386</td>\n",
       "      <td>-0.155529</td>\n",
       "      <td>0.004788</td>\n",
       "      <td>0.088848</td>\n",
       "      <td>-0.092836</td>\n",
       "      <td>-0.108137</td>\n",
       "      <td>-0.077568</td>\n",
       "      <td>0.015394</td>\n",
       "      <td>-0.172940</td>\n",
       "    </tr>\n",
       "    <tr>\n",
       "      <th>3</th>\n",
       "      <td>0.022403</td>\n",
       "      <td>0.078479</td>\n",
       "      <td>0.077115</td>\n",
       "      <td>0.038191</td>\n",
       "      <td>-0.239567</td>\n",
       "      <td>-0.098114</td>\n",
       "      <td>0.027228</td>\n",
       "      <td>0.051241</td>\n",
       "      <td>0.278220</td>\n",
       "      <td>0.049499</td>\n",
       "      <td>...</td>\n",
       "      <td>-0.203505</td>\n",
       "      <td>-0.232305</td>\n",
       "      <td>-0.162772</td>\n",
       "      <td>0.073455</td>\n",
       "      <td>-0.045860</td>\n",
       "      <td>-0.020485</td>\n",
       "      <td>-0.184549</td>\n",
       "      <td>-0.146412</td>\n",
       "      <td>0.028256</td>\n",
       "      <td>-0.215148</td>\n",
       "    </tr>\n",
       "    <tr>\n",
       "      <th>4</th>\n",
       "      <td>0.041268</td>\n",
       "      <td>0.072364</td>\n",
       "      <td>0.048971</td>\n",
       "      <td>-0.188405</td>\n",
       "      <td>2.502370</td>\n",
       "      <td>-0.102260</td>\n",
       "      <td>0.019878</td>\n",
       "      <td>0.009106</td>\n",
       "      <td>0.269494</td>\n",
       "      <td>0.098515</td>\n",
       "      <td>...</td>\n",
       "      <td>-0.334669</td>\n",
       "      <td>-0.164772</td>\n",
       "      <td>0.295656</td>\n",
       "      <td>0.067336</td>\n",
       "      <td>0.151838</td>\n",
       "      <td>2.362718</td>\n",
       "      <td>1.790459</td>\n",
       "      <td>1.304738</td>\n",
       "      <td>0.035068</td>\n",
       "      <td>-0.051926</td>\n",
       "    </tr>\n",
       "    <tr>\n",
       "      <th>...</th>\n",
       "      <td>...</td>\n",
       "      <td>...</td>\n",
       "      <td>...</td>\n",
       "      <td>...</td>\n",
       "      <td>...</td>\n",
       "      <td>...</td>\n",
       "      <td>...</td>\n",
       "      <td>...</td>\n",
       "      <td>...</td>\n",
       "      <td>...</td>\n",
       "      <td>...</td>\n",
       "      <td>...</td>\n",
       "      <td>...</td>\n",
       "      <td>...</td>\n",
       "      <td>...</td>\n",
       "      <td>...</td>\n",
       "      <td>...</td>\n",
       "      <td>...</td>\n",
       "      <td>...</td>\n",
       "      <td>...</td>\n",
       "      <td>...</td>\n",
       "    </tr>\n",
       "    <tr>\n",
       "      <th>1131</th>\n",
       "      <td>0.022180</td>\n",
       "      <td>0.006455</td>\n",
       "      <td>-0.019983</td>\n",
       "      <td>-0.059389</td>\n",
       "      <td>0.110241</td>\n",
       "      <td>-0.312484</td>\n",
       "      <td>0.017299</td>\n",
       "      <td>-0.058058</td>\n",
       "      <td>0.064438</td>\n",
       "      <td>-0.144245</td>\n",
       "      <td>...</td>\n",
       "      <td>-0.278956</td>\n",
       "      <td>-0.240716</td>\n",
       "      <td>-0.060481</td>\n",
       "      <td>-0.008809</td>\n",
       "      <td>-0.043269</td>\n",
       "      <td>0.274932</td>\n",
       "      <td>-0.326916</td>\n",
       "      <td>0.281096</td>\n",
       "      <td>0.024758</td>\n",
       "      <td>-0.144176</td>\n",
       "    </tr>\n",
       "    <tr>\n",
       "      <th>1132</th>\n",
       "      <td>0.036278</td>\n",
       "      <td>0.049262</td>\n",
       "      <td>0.034899</td>\n",
       "      <td>-0.348417</td>\n",
       "      <td>-0.303815</td>\n",
       "      <td>-0.112439</td>\n",
       "      <td>0.016968</td>\n",
       "      <td>-0.032305</td>\n",
       "      <td>0.190962</td>\n",
       "      <td>0.077786</td>\n",
       "      <td>...</td>\n",
       "      <td>-0.387362</td>\n",
       "      <td>-0.246900</td>\n",
       "      <td>-0.185569</td>\n",
       "      <td>0.044221</td>\n",
       "      <td>0.031745</td>\n",
       "      <td>-0.126399</td>\n",
       "      <td>-0.281998</td>\n",
       "      <td>-0.336835</td>\n",
       "      <td>0.036009</td>\n",
       "      <td>-0.217807</td>\n",
       "    </tr>\n",
       "    <tr>\n",
       "      <th>1133</th>\n",
       "      <td>0.071111</td>\n",
       "      <td>-0.060134</td>\n",
       "      <td>-0.084716</td>\n",
       "      <td>0.247456</td>\n",
       "      <td>-0.140480</td>\n",
       "      <td>-0.302407</td>\n",
       "      <td>0.007877</td>\n",
       "      <td>-0.232850</td>\n",
       "      <td>-0.149345</td>\n",
       "      <td>-0.307842</td>\n",
       "      <td>...</td>\n",
       "      <td>0.400038</td>\n",
       "      <td>0.176708</td>\n",
       "      <td>0.327384</td>\n",
       "      <td>-0.065238</td>\n",
       "      <td>-0.110110</td>\n",
       "      <td>0.117461</td>\n",
       "      <td>-0.118103</td>\n",
       "      <td>-0.100724</td>\n",
       "      <td>0.016323</td>\n",
       "      <td>0.185487</td>\n",
       "    </tr>\n",
       "    <tr>\n",
       "      <th>1134</th>\n",
       "      <td>0.021718</td>\n",
       "      <td>0.034313</td>\n",
       "      <td>0.013790</td>\n",
       "      <td>0.317533</td>\n",
       "      <td>-0.341341</td>\n",
       "      <td>-0.303353</td>\n",
       "      <td>0.014460</td>\n",
       "      <td>-0.028351</td>\n",
       "      <td>0.134244</td>\n",
       "      <td>0.014379</td>\n",
       "      <td>...</td>\n",
       "      <td>-0.453907</td>\n",
       "      <td>0.439776</td>\n",
       "      <td>-0.203211</td>\n",
       "      <td>0.029263</td>\n",
       "      <td>0.199993</td>\n",
       "      <td>-0.141216</td>\n",
       "      <td>-0.306576</td>\n",
       "      <td>-0.351056</td>\n",
       "      <td>0.026387</td>\n",
       "      <td>-0.228920</td>\n",
       "    </tr>\n",
       "    <tr>\n",
       "      <th>1135</th>\n",
       "      <td>0.041957</td>\n",
       "      <td>-0.077801</td>\n",
       "      <td>-0.102306</td>\n",
       "      <td>0.660949</td>\n",
       "      <td>-0.292440</td>\n",
       "      <td>-0.604182</td>\n",
       "      <td>0.009216</td>\n",
       "      <td>-0.076280</td>\n",
       "      <td>-0.206062</td>\n",
       "      <td>-0.247962</td>\n",
       "      <td>...</td>\n",
       "      <td>-0.516281</td>\n",
       "      <td>0.791838</td>\n",
       "      <td>-0.192006</td>\n",
       "      <td>-0.082915</td>\n",
       "      <td>-0.079723</td>\n",
       "      <td>-0.136341</td>\n",
       "      <td>-0.283801</td>\n",
       "      <td>-0.359727</td>\n",
       "      <td>0.037256</td>\n",
       "      <td>-0.214500</td>\n",
       "    </tr>\n",
       "  </tbody>\n",
       "</table>\n",
       "<p>1136 rows × 31 columns</p>\n",
       "</div>"
      ],
      "text/plain": [
       "          cfmq   epspi12    oeps12  curr_ratioq  market_cap  cfo-per-share  \\\n",
       "0     0.042424 -0.023103 -0.034056     0.884780    0.017999      -0.521710   \n",
       "1     0.021683 -0.312222 -0.151559    -0.179459   -0.197034       0.173893   \n",
       "2     0.017178  0.009852 -0.011540     0.019710   -0.223365      -0.185520   \n",
       "3     0.022403  0.078479  0.077115     0.038191   -0.239567      -0.098114   \n",
       "4     0.041268  0.072364  0.048971    -0.188405    2.502370      -0.102260   \n",
       "...        ...       ...       ...          ...         ...            ...   \n",
       "1131  0.022180  0.006455 -0.019983    -0.059389    0.110241      -0.312484   \n",
       "1132  0.036278  0.049262  0.034899    -0.348417   -0.303815      -0.112439   \n",
       "1133  0.071111 -0.060134 -0.084716     0.247456   -0.140480      -0.302407   \n",
       "1134  0.021718  0.034313  0.013790     0.317533   -0.341341      -0.303353   \n",
       "1135  0.041957 -0.077801 -0.102306     0.660949   -0.292440      -0.604182   \n",
       "\n",
       "        capeiq  fcf_yield   pe_incq  fcf_csfhdq  ...  cf_yield  quick_ratioq  \\\n",
       "0     0.007903  -0.198007 -0.039181   -0.217266  ... -0.642707      0.943761   \n",
       "1     0.008470  -0.406912 -0.954300   -0.356346  ...  2.737811     -0.086185   \n",
       "2     0.017206  -0.016963  0.077526   -0.111938  ... -0.108673     -0.317386   \n",
       "3     0.027228   0.051241  0.278220    0.049499  ... -0.203505     -0.232305   \n",
       "4     0.019878   0.009106  0.269494    0.098515  ... -0.334669     -0.164772   \n",
       "...        ...        ...       ...         ...  ...       ...           ...   \n",
       "1131  0.017299  -0.058058  0.064438   -0.144245  ... -0.278956     -0.240716   \n",
       "1132  0.016968  -0.032305  0.190962    0.077786  ... -0.387362     -0.246900   \n",
       "1133  0.007877  -0.232850 -0.149345   -0.307842  ...  0.400038      0.176708   \n",
       "1134  0.014460  -0.028351  0.134244    0.014379  ... -0.453907      0.439776   \n",
       "1135  0.009216  -0.076280 -0.206062   -0.247962  ... -0.516281      0.791838   \n",
       "\n",
       "          dpcq    epsx12     roceq       niq    oibdpy       psq    opmadq  \\\n",
       "0    -0.176471 -0.028186 -0.017654 -0.039094 -0.256591 -0.304201  0.030452   \n",
       "1     0.063208 -0.166539 -0.136048 -0.686419  0.548765  0.002336  0.025103   \n",
       "2    -0.155529  0.004788  0.088848 -0.092836 -0.108137 -0.077568  0.015394   \n",
       "3    -0.162772  0.073455 -0.045860 -0.020485 -0.184549 -0.146412  0.028256   \n",
       "4     0.295656  0.067336  0.151838  2.362718  1.790459  1.304738  0.035068   \n",
       "...        ...       ...       ...       ...       ...       ...       ...   \n",
       "1131 -0.060481 -0.008809 -0.043269  0.274932 -0.326916  0.281096  0.024758   \n",
       "1132 -0.185569  0.044221  0.031745 -0.126399 -0.281998 -0.336835  0.036009   \n",
       "1133  0.327384 -0.065238 -0.110110  0.117461 -0.118103 -0.100724  0.016323   \n",
       "1134 -0.203211  0.029263  0.199993 -0.141216 -0.306576 -0.351056  0.026387   \n",
       "1135 -0.192006 -0.082915 -0.079723 -0.136341 -0.283801 -0.359727  0.037256   \n",
       "\n",
       "      accrualq  \n",
       "0    -0.248751  \n",
       "1     1.121090  \n",
       "2    -0.172940  \n",
       "3    -0.215148  \n",
       "4    -0.051926  \n",
       "...        ...  \n",
       "1131 -0.144176  \n",
       "1132 -0.217807  \n",
       "1133  0.185487  \n",
       "1134 -0.228920  \n",
       "1135 -0.214500  \n",
       "\n",
       "[1136 rows x 31 columns]"
      ]
     },
     "execution_count": 50,
     "metadata": {},
     "output_type": "execute_result"
    }
   ],
   "source": [
    "opt_test_data_00[1]"
   ]
  },
  {
   "cell_type": "code",
   "execution_count": null,
   "metadata": {
    "ExecuteTime": {
     "end_time": "2020-02-11T01:01:15.387898Z",
     "start_time": "2020-02-11T01:00:58.271824Z"
    }
   },
   "outputs": [],
   "source": [
    "x_00 = [1]\n",
    "ret_00 = []\n",
    "\n",
    "for i in range(len(start_dates)-1):\n",
    "        \n",
    "        ada_clf.fit(opt_training_data_00[i],training_labels[i])\n",
    "\n",
    "        preds_00 = ada_clf.predict(opt_test_data_00[i])\n",
    "        profit_i_00 = (preds_00*test_frames[i]['next_period_return']).sum()\n",
    "        ret_00.append(profit_i_00)\n",
    "        num_names_00 = len(opt_test_data_00[i])\n",
    "        x_00.append(x_00[i] + (x_00[i]/num_names_00)*profit_i_00)"
   ]
  },
  {
   "cell_type": "code",
   "execution_count": 57,
   "metadata": {
    "ExecuteTime": {
     "end_time": "2020-02-11T01:01:20.294124Z",
     "start_time": "2020-02-11T01:01:20.107095Z"
    }
   },
   "outputs": [
    {
     "data": {
      "image/png": "[encoded data removed]",
      "text/plain": [
       "<Figure size 640x480 with 1 Axes>"
      ]
     },
     "metadata": {},
     "output_type": "display_data"
    }
   ],
   "source": [
    "plt.plot(x_00);"
   ]
  },
  {
   "cell_type": "code",
   "execution_count": null,
   "metadata": {},
   "outputs": [],
   "source": []
  },
  {
   "cell_type": "markdown",
   "metadata": {},
   "source": [
    "## Using shap_features_ada_01"
   ]
  },
  {
   "cell_type": "code",
   "execution_count": 59,
   "metadata": {},
   "outputs": [],
   "source": [
    "shap_features_01 = pd.read_pickle('shap_features_ada_01.pkl')"
   ]
  },
  {
   "cell_type": "code",
   "execution_count": 60,
   "metadata": {},
   "outputs": [
    {
     "data": {
      "text/plain": [
       "Index(['cf_yield', 'gpmq', 'oancfy_q', 'rect_turnq', 'roceq', 'dvpspq',\n",
       "       'rectq', 'ibadj12', 'rd_saleq', 'spcsrc_C', 'gprofq',\n",
       "       'book_value_per_share', 'piq', 'at_turnq', 'debt_assetsq', 'de_ratioq',\n",
       "       'at4', 'epsfiq', 'cash_ratioq', 'opmbdq', 'cfo-per-share',\n",
       "       'buy_back_yield', 'sector_code_395.0', 'evmq', 'dprq', 'sic_1311'],\n",
       "      dtype='object')"
      ]
     },
     "execution_count": 60,
     "metadata": {},
     "output_type": "execute_result"
    }
   ],
   "source": [
    "shap_features_01[10]"
   ]
  },
  {
   "cell_type": "code",
   "execution_count": 61,
   "metadata": {
    "ExecuteTime": {
     "end_time": "2020-02-11T01:00:33.994294Z",
     "start_time": "2020-02-11T01:00:33.869286Z"
    }
   },
   "outputs": [],
   "source": [
    "scalers = [StandardScaler() for i in range(len(start_dates)-1)]\n",
    "           \n",
    "opt_training_data_01 = [pd.DataFrame(scalers[i].fit_transform(training_frames[i][shap_features_01[i]].values),columns=shap_features_01[i]) for i in range(len(start_dates)-1)]\n",
    "opt_valid_data_01 = [pd.DataFrame(scalers[i].fit_transform(training_frames[i][shap_features_01[i]].values),columns=shap_features_01[i]) for i in range(len(start_dates)-1)]\n",
    "opt_test_data_01 = [pd.DataFrame(scalers[i].transform(test_frames[i][shap_features_01[i]].values),columns=shap_features_01[i]) for i in range(len(start_dates)-1)]"
   ]
  },
  {
   "cell_type": "code",
   "execution_count": 62,
   "metadata": {},
   "outputs": [
    {
     "data": {
      "text/html": [
       "<div>\n",
       "<style scoped>\n",
       "    .dataframe tbody tr th:only-of-type {\n",
       "        vertical-align: middle;\n",
       "    }\n",
       "\n",
       "    .dataframe tbody tr th {\n",
       "        vertical-align: top;\n",
       "    }\n",
       "\n",
       "    .dataframe thead th {\n",
       "        text-align: right;\n",
       "    }\n",
       "</style>\n",
       "<table border=\"1\" class=\"dataframe\">\n",
       "  <thead>\n",
       "    <tr style=\"text-align: right;\">\n",
       "      <th></th>\n",
       "      <th>fcf_yield</th>\n",
       "      <th>cf_yield</th>\n",
       "      <th>evmq</th>\n",
       "      <th>cash_conversionq</th>\n",
       "      <th>xsgay</th>\n",
       "      <th>roeq</th>\n",
       "      <th>oepf12</th>\n",
       "      <th>rd_saleq</th>\n",
       "      <th>ptpmq</th>\n",
       "      <th>dltry</th>\n",
       "      <th>...</th>\n",
       "      <th>capeiq</th>\n",
       "      <th>gprofq</th>\n",
       "      <th>yearly_sales</th>\n",
       "      <th>sector_code_300.0</th>\n",
       "      <th>fqtr_2</th>\n",
       "      <th>prccq</th>\n",
       "      <th>chechy</th>\n",
       "      <th>cfmq</th>\n",
       "      <th>fcf_csfhdq</th>\n",
       "      <th>pcfq</th>\n",
       "    </tr>\n",
       "  </thead>\n",
       "  <tbody>\n",
       "    <tr>\n",
       "      <th>0</th>\n",
       "      <td>-0.198007</td>\n",
       "      <td>-0.642707</td>\n",
       "      <td>0.079080</td>\n",
       "      <td>0.161958</td>\n",
       "      <td>-0.267934</td>\n",
       "      <td>0.005448</td>\n",
       "      <td>-0.034950</td>\n",
       "      <td>-0.040516</td>\n",
       "      <td>0.037930</td>\n",
       "      <td>-0.220578</td>\n",
       "      <td>...</td>\n",
       "      <td>0.007903</td>\n",
       "      <td>0.006720</td>\n",
       "      <td>-0.323519</td>\n",
       "      <td>-0.152901</td>\n",
       "      <td>1.707184</td>\n",
       "      <td>1.018377</td>\n",
       "      <td>-0.541020</td>\n",
       "      <td>0.042424</td>\n",
       "      <td>-0.217266</td>\n",
       "      <td>0.122199</td>\n",
       "    </tr>\n",
       "    <tr>\n",
       "      <th>1</th>\n",
       "      <td>-0.406912</td>\n",
       "      <td>2.737811</td>\n",
       "      <td>-1.008394</td>\n",
       "      <td>0.156748</td>\n",
       "      <td>-0.337319</td>\n",
       "      <td>-0.019739</td>\n",
       "      <td>-0.148162</td>\n",
       "      <td>-0.090296</td>\n",
       "      <td>-0.015419</td>\n",
       "      <td>1.626170</td>\n",
       "      <td>...</td>\n",
       "      <td>0.008470</td>\n",
       "      <td>-0.842838</td>\n",
       "      <td>-0.026663</td>\n",
       "      <td>-0.152901</td>\n",
       "      <td>-0.585760</td>\n",
       "      <td>-1.033319</td>\n",
       "      <td>-0.284451</td>\n",
       "      <td>0.021683</td>\n",
       "      <td>-0.356346</td>\n",
       "      <td>-0.035955</td>\n",
       "    </tr>\n",
       "    <tr>\n",
       "      <th>2</th>\n",
       "      <td>-0.016963</td>\n",
       "      <td>-0.108673</td>\n",
       "      <td>0.015285</td>\n",
       "      <td>0.162378</td>\n",
       "      <td>0.345250</td>\n",
       "      <td>0.009155</td>\n",
       "      <td>-0.008932</td>\n",
       "      <td>-0.090296</td>\n",
       "      <td>0.027466</td>\n",
       "      <td>-0.220626</td>\n",
       "      <td>...</td>\n",
       "      <td>0.017206</td>\n",
       "      <td>2.259089</td>\n",
       "      <td>-0.104044</td>\n",
       "      <td>-0.152901</td>\n",
       "      <td>-0.585760</td>\n",
       "      <td>-0.313274</td>\n",
       "      <td>-0.063495</td>\n",
       "      <td>0.017178</td>\n",
       "      <td>-0.111938</td>\n",
       "      <td>-0.011194</td>\n",
       "    </tr>\n",
       "    <tr>\n",
       "      <th>3</th>\n",
       "      <td>0.051241</td>\n",
       "      <td>-0.203505</td>\n",
       "      <td>0.013118</td>\n",
       "      <td>0.214215</td>\n",
       "      <td>-0.198088</td>\n",
       "      <td>0.001531</td>\n",
       "      <td>0.069825</td>\n",
       "      <td>-0.090296</td>\n",
       "      <td>0.032890</td>\n",
       "      <td>-0.101919</td>\n",
       "      <td>...</td>\n",
       "      <td>0.027228</td>\n",
       "      <td>-0.226090</td>\n",
       "      <td>-0.170714</td>\n",
       "      <td>-0.152901</td>\n",
       "      <td>1.707184</td>\n",
       "      <td>0.093675</td>\n",
       "      <td>-0.107411</td>\n",
       "      <td>0.022403</td>\n",
       "      <td>0.049499</td>\n",
       "      <td>0.007315</td>\n",
       "    </tr>\n",
       "    <tr>\n",
       "      <th>4</th>\n",
       "      <td>0.009106</td>\n",
       "      <td>-0.334669</td>\n",
       "      <td>0.019836</td>\n",
       "      <td>0.137457</td>\n",
       "      <td>3.390534</td>\n",
       "      <td>0.025931</td>\n",
       "      <td>0.048026</td>\n",
       "      <td>-0.090296</td>\n",
       "      <td>0.047644</td>\n",
       "      <td>-0.132105</td>\n",
       "      <td>...</td>\n",
       "      <td>0.019878</td>\n",
       "      <td>1.476693</td>\n",
       "      <td>1.234606</td>\n",
       "      <td>-0.152901</td>\n",
       "      <td>-0.585760</td>\n",
       "      <td>0.562138</td>\n",
       "      <td>0.797786</td>\n",
       "      <td>0.041268</td>\n",
       "      <td>0.098515</td>\n",
       "      <td>-0.033265</td>\n",
       "    </tr>\n",
       "    <tr>\n",
       "      <th>...</th>\n",
       "      <td>...</td>\n",
       "      <td>...</td>\n",
       "      <td>...</td>\n",
       "      <td>...</td>\n",
       "      <td>...</td>\n",
       "      <td>...</td>\n",
       "      <td>...</td>\n",
       "      <td>...</td>\n",
       "      <td>...</td>\n",
       "      <td>...</td>\n",
       "      <td>...</td>\n",
       "      <td>...</td>\n",
       "      <td>...</td>\n",
       "      <td>...</td>\n",
       "      <td>...</td>\n",
       "      <td>...</td>\n",
       "      <td>...</td>\n",
       "      <td>...</td>\n",
       "      <td>...</td>\n",
       "      <td>...</td>\n",
       "      <td>...</td>\n",
       "    </tr>\n",
       "    <tr>\n",
       "      <th>1131</th>\n",
       "      <td>-0.058058</td>\n",
       "      <td>-0.278956</td>\n",
       "      <td>-0.004318</td>\n",
       "      <td>0.188685</td>\n",
       "      <td>0.083521</td>\n",
       "      <td>-0.013238</td>\n",
       "      <td>-0.015964</td>\n",
       "      <td>-0.090296</td>\n",
       "      <td>0.031551</td>\n",
       "      <td>-0.057849</td>\n",
       "      <td>...</td>\n",
       "      <td>0.017299</td>\n",
       "      <td>-0.132612</td>\n",
       "      <td>0.243293</td>\n",
       "      <td>-0.152901</td>\n",
       "      <td>1.707184</td>\n",
       "      <td>-0.289614</td>\n",
       "      <td>-0.407271</td>\n",
       "      <td>0.022180</td>\n",
       "      <td>-0.144245</td>\n",
       "      <td>-0.025578</td>\n",
       "    </tr>\n",
       "    <tr>\n",
       "      <th>1132</th>\n",
       "      <td>-0.032305</td>\n",
       "      <td>-0.387362</td>\n",
       "      <td>0.016386</td>\n",
       "      <td>0.149276</td>\n",
       "      <td>-0.263041</td>\n",
       "      <td>0.007314</td>\n",
       "      <td>0.032556</td>\n",
       "      <td>-0.090296</td>\n",
       "      <td>0.045412</td>\n",
       "      <td>-0.216128</td>\n",
       "      <td>...</td>\n",
       "      <td>0.016968</td>\n",
       "      <td>1.032005</td>\n",
       "      <td>-0.355123</td>\n",
       "      <td>-0.152901</td>\n",
       "      <td>1.707184</td>\n",
       "      <td>0.818846</td>\n",
       "      <td>-0.075637</td>\n",
       "      <td>0.036278</td>\n",
       "      <td>0.077786</td>\n",
       "      <td>0.162820</td>\n",
       "    </tr>\n",
       "    <tr>\n",
       "      <th>1133</th>\n",
       "      <td>-0.232850</td>\n",
       "      <td>0.400038</td>\n",
       "      <td>0.004571</td>\n",
       "      <td>0.180852</td>\n",
       "      <td>-0.211596</td>\n",
       "      <td>-0.006154</td>\n",
       "      <td>-0.084172</td>\n",
       "      <td>0.035477</td>\n",
       "      <td>0.027801</td>\n",
       "      <td>-0.149506</td>\n",
       "      <td>...</td>\n",
       "      <td>0.007877</td>\n",
       "      <td>0.323961</td>\n",
       "      <td>-0.126468</td>\n",
       "      <td>-0.152901</td>\n",
       "      <td>-0.585760</td>\n",
       "      <td>-0.919358</td>\n",
       "      <td>-0.288791</td>\n",
       "      <td>0.071111</td>\n",
       "      <td>-0.307842</td>\n",
       "      <td>-0.033820</td>\n",
       "    </tr>\n",
       "    <tr>\n",
       "      <th>1134</th>\n",
       "      <td>-0.028351</td>\n",
       "      <td>-0.453907</td>\n",
       "      <td>0.017270</td>\n",
       "      <td>0.159856</td>\n",
       "      <td>-0.308801</td>\n",
       "      <td>0.018620</td>\n",
       "      <td>0.009351</td>\n",
       "      <td>-0.090296</td>\n",
       "      <td>0.038785</td>\n",
       "      <td>-0.220626</td>\n",
       "      <td>...</td>\n",
       "      <td>0.014460</td>\n",
       "      <td>1.963101</td>\n",
       "      <td>-0.368895</td>\n",
       "      <td>-0.152901</td>\n",
       "      <td>1.707184</td>\n",
       "      <td>0.432404</td>\n",
       "      <td>-0.061401</td>\n",
       "      <td>0.021718</td>\n",
       "      <td>0.014379</td>\n",
       "      <td>0.356613</td>\n",
       "    </tr>\n",
       "    <tr>\n",
       "      <th>1135</th>\n",
       "      <td>-0.076280</td>\n",
       "      <td>-0.516281</td>\n",
       "      <td>0.044668</td>\n",
       "      <td>0.168516</td>\n",
       "      <td>-0.223124</td>\n",
       "      <td>-0.005469</td>\n",
       "      <td>-0.099642</td>\n",
       "      <td>0.049667</td>\n",
       "      <td>0.048582</td>\n",
       "      <td>-0.219803</td>\n",
       "      <td>...</td>\n",
       "      <td>0.009216</td>\n",
       "      <td>0.247519</td>\n",
       "      <td>-0.377292</td>\n",
       "      <td>-0.152901</td>\n",
       "      <td>-0.585760</td>\n",
       "      <td>-0.902796</td>\n",
       "      <td>0.056882</td>\n",
       "      <td>0.041957</td>\n",
       "      <td>-0.247962</td>\n",
       "      <td>0.019825</td>\n",
       "    </tr>\n",
       "  </tbody>\n",
       "</table>\n",
       "<p>1136 rows × 52 columns</p>\n",
       "</div>"
      ],
      "text/plain": [
       "      fcf_yield  cf_yield      evmq  cash_conversionq     xsgay      roeq  \\\n",
       "0     -0.198007 -0.642707  0.079080          0.161958 -0.267934  0.005448   \n",
       "1     -0.406912  2.737811 -1.008394          0.156748 -0.337319 -0.019739   \n",
       "2     -0.016963 -0.108673  0.015285          0.162378  0.345250  0.009155   \n",
       "3      0.051241 -0.203505  0.013118          0.214215 -0.198088  0.001531   \n",
       "4      0.009106 -0.334669  0.019836          0.137457  3.390534  0.025931   \n",
       "...         ...       ...       ...               ...       ...       ...   \n",
       "1131  -0.058058 -0.278956 -0.004318          0.188685  0.083521 -0.013238   \n",
       "1132  -0.032305 -0.387362  0.016386          0.149276 -0.263041  0.007314   \n",
       "1133  -0.232850  0.400038  0.004571          0.180852 -0.211596 -0.006154   \n",
       "1134  -0.028351 -0.453907  0.017270          0.159856 -0.308801  0.018620   \n",
       "1135  -0.076280 -0.516281  0.044668          0.168516 -0.223124 -0.005469   \n",
       "\n",
       "        oepf12  rd_saleq     ptpmq     dltry  ...    capeiq    gprofq  \\\n",
       "0    -0.034950 -0.040516  0.037930 -0.220578  ...  0.007903  0.006720   \n",
       "1    -0.148162 -0.090296 -0.015419  1.626170  ...  0.008470 -0.842838   \n",
       "2    -0.008932 -0.090296  0.027466 -0.220626  ...  0.017206  2.259089   \n",
       "3     0.069825 -0.090296  0.032890 -0.101919  ...  0.027228 -0.226090   \n",
       "4     0.048026 -0.090296  0.047644 -0.132105  ...  0.019878  1.476693   \n",
       "...        ...       ...       ...       ...  ...       ...       ...   \n",
       "1131 -0.015964 -0.090296  0.031551 -0.057849  ...  0.017299 -0.132612   \n",
       "1132  0.032556 -0.090296  0.045412 -0.216128  ...  0.016968  1.032005   \n",
       "1133 -0.084172  0.035477  0.027801 -0.149506  ...  0.007877  0.323961   \n",
       "1134  0.009351 -0.090296  0.038785 -0.220626  ...  0.014460  1.963101   \n",
       "1135 -0.099642  0.049667  0.048582 -0.219803  ...  0.009216  0.247519   \n",
       "\n",
       "      yearly_sales  sector_code_300.0    fqtr_2     prccq    chechy      cfmq  \\\n",
       "0        -0.323519          -0.152901  1.707184  1.018377 -0.541020  0.042424   \n",
       "1        -0.026663          -0.152901 -0.585760 -1.033319 -0.284451  0.021683   \n",
       "2        -0.104044          -0.152901 -0.585760 -0.313274 -0.063495  0.017178   \n",
       "3        -0.170714          -0.152901  1.707184  0.093675 -0.107411  0.022403   \n",
       "4         1.234606          -0.152901 -0.585760  0.562138  0.797786  0.041268   \n",
       "...            ...                ...       ...       ...       ...       ...   \n",
       "1131      0.243293          -0.152901  1.707184 -0.289614 -0.407271  0.022180   \n",
       "1132     -0.355123          -0.152901  1.707184  0.818846 -0.075637  0.036278   \n",
       "1133     -0.126468          -0.152901 -0.585760 -0.919358 -0.288791  0.071111   \n",
       "1134     -0.368895          -0.152901  1.707184  0.432404 -0.061401  0.021718   \n",
       "1135     -0.377292          -0.152901 -0.585760 -0.902796  0.056882  0.041957   \n",
       "\n",
       "      fcf_csfhdq      pcfq  \n",
       "0      -0.217266  0.122199  \n",
       "1      -0.356346 -0.035955  \n",
       "2      -0.111938 -0.011194  \n",
       "3       0.049499  0.007315  \n",
       "4       0.098515 -0.033265  \n",
       "...          ...       ...  \n",
       "1131   -0.144245 -0.025578  \n",
       "1132    0.077786  0.162820  \n",
       "1133   -0.307842 -0.033820  \n",
       "1134    0.014379  0.356613  \n",
       "1135   -0.247962  0.019825  \n",
       "\n",
       "[1136 rows x 52 columns]"
      ]
     },
     "execution_count": 62,
     "metadata": {},
     "output_type": "execute_result"
    }
   ],
   "source": [
    "opt_test_data_01[1]"
   ]
  },
  {
   "cell_type": "code",
   "execution_count": 64,
   "metadata": {
    "ExecuteTime": {
     "end_time": "2020-02-11T01:01:15.387898Z",
     "start_time": "2020-02-11T01:00:58.271824Z"
    }
   },
   "outputs": [],
   "source": [
    "x_01 = [1]\n",
    "ret_01 = []\n",
    "\n",
    "for i in range(len(start_dates)-1):\n",
    "        \n",
    "        ada_clf.fit(opt_training_data_01[i],training_labels[i])\n",
    "\n",
    "        preds_01 = ada_clf.predict(opt_test_data_01[i])\n",
    "        profit_i_01 = (preds_01*test_frames[i]['next_period_return']).sum()\n",
    "        ret_01.append(profit_i_01)\n",
    "        num_names_01 = len(opt_test_data_01[i])\n",
    "        x_01.append(x_01[i] + (x_01[i]/num_names_01)*profit_i_01)"
   ]
  },
  {
   "cell_type": "code",
   "execution_count": 65,
   "metadata": {
    "ExecuteTime": {
     "end_time": "2020-02-11T01:01:20.294124Z",
     "start_time": "2020-02-11T01:01:20.107095Z"
    }
   },
   "outputs": [
    {
     "data": {
      "image/png": "[encoded data removed]",
      "text/plain": [
       "<Figure size 640x480 with 1 Axes>"
      ]
     },
     "metadata": {},
     "output_type": "display_data"
    }
   ],
   "source": [
    "plt.plot(x_01);"
   ]
  },
  {
   "cell_type": "markdown",
   "metadata": {},
   "source": [
    "## Using shap_features_ada_02"
   ]
  },
  {
   "cell_type": "code",
   "execution_count": 66,
   "metadata": {},
   "outputs": [],
   "source": [
    "shap_features_02 = pd.read_pickle('shap_features_ada_02.pkl')"
   ]
  },
  {
   "cell_type": "code",
   "execution_count": 70,
   "metadata": {
    "ExecuteTime": {
     "end_time": "2020-02-11T01:00:33.994294Z",
     "start_time": "2020-02-11T01:00:33.869286Z"
    }
   },
   "outputs": [],
   "source": [
    "scalers = [StandardScaler() for i in range(len(start_dates)-1)]\n",
    "           \n",
    "opt_training_data_02 = [pd.DataFrame(scalers[i].fit_transform(training_frames[i][shap_features_02[i]].values),columns=shap_features_02[i]) for i in range(len(start_dates)-1)]\n",
    "opt_valid_data_02 = [pd.DataFrame(scalers[i].fit_transform(training_frames[i][shap_features_02[i]].values),columns=shap_features_02[i]) for i in range(len(start_dates)-1)]\n",
    "opt_test_data_02 = [pd.DataFrame(scalers[i].transform(test_frames[i][shap_features_02[i]].values),columns=shap_features_02[i]) for i in range(len(start_dates)-1)]"
   ]
  },
  {
   "cell_type": "code",
   "execution_count": 71,
   "metadata": {},
   "outputs": [
    {
     "data": {
      "text/html": [
       "<div>\n",
       "<style scoped>\n",
       "    .dataframe tbody tr th:only-of-type {\n",
       "        vertical-align: middle;\n",
       "    }\n",
       "\n",
       "    .dataframe tbody tr th {\n",
       "        vertical-align: top;\n",
       "    }\n",
       "\n",
       "    .dataframe thead th {\n",
       "        text-align: right;\n",
       "    }\n",
       "</style>\n",
       "<table border=\"1\" class=\"dataframe\">\n",
       "  <thead>\n",
       "    <tr style=\"text-align: right;\">\n",
       "      <th></th>\n",
       "      <th>fcf_yield</th>\n",
       "      <th>cf_yield</th>\n",
       "      <th>evmq</th>\n",
       "      <th>cash_conversionq</th>\n",
       "      <th>xsgay</th>\n",
       "      <th>roeq</th>\n",
       "      <th>oepf12</th>\n",
       "      <th>rd_saleq</th>\n",
       "      <th>ptpmq</th>\n",
       "      <th>dltry</th>\n",
       "      <th>...</th>\n",
       "      <th>sector_code_440.0</th>\n",
       "      <th>apq</th>\n",
       "      <th>sale_nwcq</th>\n",
       "      <th>oibdpy</th>\n",
       "      <th>pe_op_dilq</th>\n",
       "      <th>epsfiq</th>\n",
       "      <th>oibdpq</th>\n",
       "      <th>cshoq</th>\n",
       "      <th>xidoy</th>\n",
       "      <th>opmadq</th>\n",
       "    </tr>\n",
       "  </thead>\n",
       "  <tbody>\n",
       "    <tr>\n",
       "      <th>0</th>\n",
       "      <td>-0.198007</td>\n",
       "      <td>-0.642707</td>\n",
       "      <td>0.079080</td>\n",
       "      <td>0.161958</td>\n",
       "      <td>-0.267934</td>\n",
       "      <td>0.005448</td>\n",
       "      <td>-0.034950</td>\n",
       "      <td>-0.040516</td>\n",
       "      <td>0.037930</td>\n",
       "      <td>-0.220578</td>\n",
       "      <td>...</td>\n",
       "      <td>-0.065414</td>\n",
       "      <td>-0.156723</td>\n",
       "      <td>-0.009228</td>\n",
       "      <td>-0.256591</td>\n",
       "      <td>-0.097542</td>\n",
       "      <td>0.021062</td>\n",
       "      <td>-0.241703</td>\n",
       "      <td>-0.186967</td>\n",
       "      <td>0.075570</td>\n",
       "      <td>0.030452</td>\n",
       "    </tr>\n",
       "    <tr>\n",
       "      <th>1</th>\n",
       "      <td>-0.406912</td>\n",
       "      <td>2.737811</td>\n",
       "      <td>-1.008394</td>\n",
       "      <td>0.156748</td>\n",
       "      <td>-0.337319</td>\n",
       "      <td>-0.019739</td>\n",
       "      <td>-0.148162</td>\n",
       "      <td>-0.090296</td>\n",
       "      <td>-0.015419</td>\n",
       "      <td>1.626170</td>\n",
       "      <td>...</td>\n",
       "      <td>-0.065414</td>\n",
       "      <td>-0.093440</td>\n",
       "      <td>-0.002843</td>\n",
       "      <td>0.548765</td>\n",
       "      <td>-0.583731</td>\n",
       "      <td>-0.398602</td>\n",
       "      <td>-0.095685</td>\n",
       "      <td>0.368063</td>\n",
       "      <td>-5.663265</td>\n",
       "      <td>0.025103</td>\n",
       "    </tr>\n",
       "    <tr>\n",
       "      <th>2</th>\n",
       "      <td>-0.016963</td>\n",
       "      <td>-0.108673</td>\n",
       "      <td>0.015285</td>\n",
       "      <td>0.162378</td>\n",
       "      <td>0.345250</td>\n",
       "      <td>0.009155</td>\n",
       "      <td>-0.008932</td>\n",
       "      <td>-0.090296</td>\n",
       "      <td>0.027466</td>\n",
       "      <td>-0.220626</td>\n",
       "      <td>...</td>\n",
       "      <td>-0.065414</td>\n",
       "      <td>-0.141465</td>\n",
       "      <td>0.019888</td>\n",
       "      <td>-0.108137</td>\n",
       "      <td>0.014191</td>\n",
       "      <td>-0.034556</td>\n",
       "      <td>-0.239501</td>\n",
       "      <td>-0.212314</td>\n",
       "      <td>0.075570</td>\n",
       "      <td>0.015394</td>\n",
       "    </tr>\n",
       "    <tr>\n",
       "      <th>3</th>\n",
       "      <td>0.051241</td>\n",
       "      <td>-0.203505</td>\n",
       "      <td>0.013118</td>\n",
       "      <td>0.214215</td>\n",
       "      <td>-0.198088</td>\n",
       "      <td>0.001531</td>\n",
       "      <td>0.069825</td>\n",
       "      <td>-0.090296</td>\n",
       "      <td>0.032890</td>\n",
       "      <td>-0.101919</td>\n",
       "      <td>...</td>\n",
       "      <td>-0.065414</td>\n",
       "      <td>-0.145613</td>\n",
       "      <td>-0.000540</td>\n",
       "      <td>-0.184549</td>\n",
       "      <td>0.352410</td>\n",
       "      <td>0.187917</td>\n",
       "      <td>-0.140700</td>\n",
       "      <td>-0.286651</td>\n",
       "      <td>0.075570</td>\n",
       "      <td>0.028256</td>\n",
       "    </tr>\n",
       "    <tr>\n",
       "      <th>4</th>\n",
       "      <td>0.009106</td>\n",
       "      <td>-0.334669</td>\n",
       "      <td>0.019836</td>\n",
       "      <td>0.137457</td>\n",
       "      <td>3.390534</td>\n",
       "      <td>0.025931</td>\n",
       "      <td>0.048026</td>\n",
       "      <td>-0.090296</td>\n",
       "      <td>0.047644</td>\n",
       "      <td>-0.132105</td>\n",
       "      <td>...</td>\n",
       "      <td>-0.065414</td>\n",
       "      <td>0.015836</td>\n",
       "      <td>0.060936</td>\n",
       "      <td>1.790459</td>\n",
       "      <td>0.258796</td>\n",
       "      <td>0.238479</td>\n",
       "      <td>1.562906</td>\n",
       "      <td>1.685134</td>\n",
       "      <td>0.075570</td>\n",
       "      <td>0.035068</td>\n",
       "    </tr>\n",
       "    <tr>\n",
       "      <th>...</th>\n",
       "      <td>...</td>\n",
       "      <td>...</td>\n",
       "      <td>...</td>\n",
       "      <td>...</td>\n",
       "      <td>...</td>\n",
       "      <td>...</td>\n",
       "      <td>...</td>\n",
       "      <td>...</td>\n",
       "      <td>...</td>\n",
       "      <td>...</td>\n",
       "      <td>...</td>\n",
       "      <td>...</td>\n",
       "      <td>...</td>\n",
       "      <td>...</td>\n",
       "      <td>...</td>\n",
       "      <td>...</td>\n",
       "      <td>...</td>\n",
       "      <td>...</td>\n",
       "      <td>...</td>\n",
       "      <td>...</td>\n",
       "      <td>...</td>\n",
       "    </tr>\n",
       "    <tr>\n",
       "      <th>1131</th>\n",
       "      <td>-0.058058</td>\n",
       "      <td>-0.278956</td>\n",
       "      <td>-0.004318</td>\n",
       "      <td>0.188685</td>\n",
       "      <td>0.083521</td>\n",
       "      <td>-0.013238</td>\n",
       "      <td>-0.015964</td>\n",
       "      <td>-0.090296</td>\n",
       "      <td>0.031551</td>\n",
       "      <td>-0.057849</td>\n",
       "      <td>...</td>\n",
       "      <td>-0.065414</td>\n",
       "      <td>-0.121672</td>\n",
       "      <td>0.006343</td>\n",
       "      <td>-0.326916</td>\n",
       "      <td>-0.016007</td>\n",
       "      <td>0.071624</td>\n",
       "      <td>-0.336381</td>\n",
       "      <td>0.221718</td>\n",
       "      <td>0.315448</td>\n",
       "      <td>0.024758</td>\n",
       "    </tr>\n",
       "    <tr>\n",
       "      <th>1132</th>\n",
       "      <td>-0.032305</td>\n",
       "      <td>-0.387362</td>\n",
       "      <td>0.016386</td>\n",
       "      <td>0.149276</td>\n",
       "      <td>-0.263041</td>\n",
       "      <td>0.007314</td>\n",
       "      <td>0.032556</td>\n",
       "      <td>-0.090296</td>\n",
       "      <td>0.045412</td>\n",
       "      <td>-0.216128</td>\n",
       "      <td>...</td>\n",
       "      <td>-0.065414</td>\n",
       "      <td>-0.155985</td>\n",
       "      <td>-0.061273</td>\n",
       "      <td>-0.281998</td>\n",
       "      <td>0.192360</td>\n",
       "      <td>0.137355</td>\n",
       "      <td>-0.281563</td>\n",
       "      <td>-0.372983</td>\n",
       "      <td>0.075570</td>\n",
       "      <td>0.036009</td>\n",
       "    </tr>\n",
       "    <tr>\n",
       "      <th>1133</th>\n",
       "      <td>-0.232850</td>\n",
       "      <td>0.400038</td>\n",
       "      <td>0.004571</td>\n",
       "      <td>0.180852</td>\n",
       "      <td>-0.211596</td>\n",
       "      <td>-0.006154</td>\n",
       "      <td>-0.084172</td>\n",
       "      <td>0.035477</td>\n",
       "      <td>0.027801</td>\n",
       "      <td>-0.149506</td>\n",
       "      <td>...</td>\n",
       "      <td>-0.065414</td>\n",
       "      <td>-0.145444</td>\n",
       "      <td>-0.003445</td>\n",
       "      <td>-0.118103</td>\n",
       "      <td>-0.308929</td>\n",
       "      <td>-0.044668</td>\n",
       "      <td>0.173915</td>\n",
       "      <td>0.343712</td>\n",
       "      <td>0.075570</td>\n",
       "      <td>0.016323</td>\n",
       "    </tr>\n",
       "    <tr>\n",
       "      <th>1134</th>\n",
       "      <td>-0.028351</td>\n",
       "      <td>-0.453907</td>\n",
       "      <td>0.017270</td>\n",
       "      <td>0.159856</td>\n",
       "      <td>-0.308801</td>\n",
       "      <td>0.018620</td>\n",
       "      <td>0.009351</td>\n",
       "      <td>-0.090296</td>\n",
       "      <td>0.038785</td>\n",
       "      <td>-0.220626</td>\n",
       "      <td>...</td>\n",
       "      <td>-0.065414</td>\n",
       "      <td>-0.157856</td>\n",
       "      <td>0.013427</td>\n",
       "      <td>-0.306576</td>\n",
       "      <td>0.092706</td>\n",
       "      <td>0.152523</td>\n",
       "      <td>-0.307996</td>\n",
       "      <td>-0.391962</td>\n",
       "      <td>0.075570</td>\n",
       "      <td>0.026387</td>\n",
       "    </tr>\n",
       "    <tr>\n",
       "      <th>1135</th>\n",
       "      <td>-0.076280</td>\n",
       "      <td>-0.516281</td>\n",
       "      <td>0.044668</td>\n",
       "      <td>0.168516</td>\n",
       "      <td>-0.223124</td>\n",
       "      <td>-0.005469</td>\n",
       "      <td>-0.099642</td>\n",
       "      <td>0.049667</td>\n",
       "      <td>0.048582</td>\n",
       "      <td>-0.219803</td>\n",
       "      <td>...</td>\n",
       "      <td>-0.065414</td>\n",
       "      <td>-0.158120</td>\n",
       "      <td>-0.012228</td>\n",
       "      <td>-0.283801</td>\n",
       "      <td>-0.375364</td>\n",
       "      <td>-0.120511</td>\n",
       "      <td>-0.298784</td>\n",
       "      <td>-0.154234</td>\n",
       "      <td>0.075570</td>\n",
       "      <td>0.037256</td>\n",
       "    </tr>\n",
       "  </tbody>\n",
       "</table>\n",
       "<p>1136 rows × 26 columns</p>\n",
       "</div>"
      ],
      "text/plain": [
       "      fcf_yield  cf_yield      evmq  cash_conversionq     xsgay      roeq  \\\n",
       "0     -0.198007 -0.642707  0.079080          0.161958 -0.267934  0.005448   \n",
       "1     -0.406912  2.737811 -1.008394          0.156748 -0.337319 -0.019739   \n",
       "2     -0.016963 -0.108673  0.015285          0.162378  0.345250  0.009155   \n",
       "3      0.051241 -0.203505  0.013118          0.214215 -0.198088  0.001531   \n",
       "4      0.009106 -0.334669  0.019836          0.137457  3.390534  0.025931   \n",
       "...         ...       ...       ...               ...       ...       ...   \n",
       "1131  -0.058058 -0.278956 -0.004318          0.188685  0.083521 -0.013238   \n",
       "1132  -0.032305 -0.387362  0.016386          0.149276 -0.263041  0.007314   \n",
       "1133  -0.232850  0.400038  0.004571          0.180852 -0.211596 -0.006154   \n",
       "1134  -0.028351 -0.453907  0.017270          0.159856 -0.308801  0.018620   \n",
       "1135  -0.076280 -0.516281  0.044668          0.168516 -0.223124 -0.005469   \n",
       "\n",
       "        oepf12  rd_saleq     ptpmq     dltry  ...  sector_code_440.0  \\\n",
       "0    -0.034950 -0.040516  0.037930 -0.220578  ...          -0.065414   \n",
       "1    -0.148162 -0.090296 -0.015419  1.626170  ...          -0.065414   \n",
       "2    -0.008932 -0.090296  0.027466 -0.220626  ...          -0.065414   \n",
       "3     0.069825 -0.090296  0.032890 -0.101919  ...          -0.065414   \n",
       "4     0.048026 -0.090296  0.047644 -0.132105  ...          -0.065414   \n",
       "...        ...       ...       ...       ...  ...                ...   \n",
       "1131 -0.015964 -0.090296  0.031551 -0.057849  ...          -0.065414   \n",
       "1132  0.032556 -0.090296  0.045412 -0.216128  ...          -0.065414   \n",
       "1133 -0.084172  0.035477  0.027801 -0.149506  ...          -0.065414   \n",
       "1134  0.009351 -0.090296  0.038785 -0.220626  ...          -0.065414   \n",
       "1135 -0.099642  0.049667  0.048582 -0.219803  ...          -0.065414   \n",
       "\n",
       "           apq  sale_nwcq    oibdpy  pe_op_dilq    epsfiq    oibdpq     cshoq  \\\n",
       "0    -0.156723  -0.009228 -0.256591   -0.097542  0.021062 -0.241703 -0.186967   \n",
       "1    -0.093440  -0.002843  0.548765   -0.583731 -0.398602 -0.095685  0.368063   \n",
       "2    -0.141465   0.019888 -0.108137    0.014191 -0.034556 -0.239501 -0.212314   \n",
       "3    -0.145613  -0.000540 -0.184549    0.352410  0.187917 -0.140700 -0.286651   \n",
       "4     0.015836   0.060936  1.790459    0.258796  0.238479  1.562906  1.685134   \n",
       "...        ...        ...       ...         ...       ...       ...       ...   \n",
       "1131 -0.121672   0.006343 -0.326916   -0.016007  0.071624 -0.336381  0.221718   \n",
       "1132 -0.155985  -0.061273 -0.281998    0.192360  0.137355 -0.281563 -0.372983   \n",
       "1133 -0.145444  -0.003445 -0.118103   -0.308929 -0.044668  0.173915  0.343712   \n",
       "1134 -0.157856   0.013427 -0.306576    0.092706  0.152523 -0.307996 -0.391962   \n",
       "1135 -0.158120  -0.012228 -0.283801   -0.375364 -0.120511 -0.298784 -0.154234   \n",
       "\n",
       "         xidoy    opmadq  \n",
       "0     0.075570  0.030452  \n",
       "1    -5.663265  0.025103  \n",
       "2     0.075570  0.015394  \n",
       "3     0.075570  0.028256  \n",
       "4     0.075570  0.035068  \n",
       "...        ...       ...  \n",
       "1131  0.315448  0.024758  \n",
       "1132  0.075570  0.036009  \n",
       "1133  0.075570  0.016323  \n",
       "1134  0.075570  0.026387  \n",
       "1135  0.075570  0.037256  \n",
       "\n",
       "[1136 rows x 26 columns]"
      ]
     },
     "execution_count": 71,
     "metadata": {},
     "output_type": "execute_result"
    }
   ],
   "source": [
    "opt_test_data_02[1]"
   ]
  },
  {
   "cell_type": "code",
   "execution_count": 72,
   "metadata": {
    "ExecuteTime": {
     "end_time": "2020-02-11T01:01:15.387898Z",
     "start_time": "2020-02-11T01:00:58.271824Z"
    }
   },
   "outputs": [],
   "source": [
    "x_02 = [1]\n",
    "ret_02 = []\n",
    "\n",
    "for i in range(len(start_dates)-1):\n",
    "        \n",
    "        ada_clf.fit(opt_training_data_02[i],training_labels[i])\n",
    "\n",
    "        preds_02 = ada_clf.predict(opt_test_data_02[i])\n",
    "        profit_i_02 = (preds_02*test_frames[i]['next_period_return']).sum()\n",
    "        ret_02.append(profit_i_02)\n",
    "        num_names_02 = len(opt_test_data_02[i])\n",
    "        x_02.append(x_02[i] + (x_02[i]/num_names_02)*profit_i_02)"
   ]
  },
  {
   "cell_type": "code",
   "execution_count": 73,
   "metadata": {
    "ExecuteTime": {
     "end_time": "2020-02-11T01:01:20.294124Z",
     "start_time": "2020-02-11T01:01:20.107095Z"
    }
   },
   "outputs": [
    {
     "data": {
      "image/png": "[encoded data removed]",
      "text/plain": [
       "<Figure size 640x480 with 1 Axes>"
      ]
     },
     "metadata": {},
     "output_type": "display_data"
    }
   ],
   "source": [
    "plt.plot(x_02);"
   ]
  },
  {
   "cell_type": "code",
   "execution_count": null,
   "metadata": {},
   "outputs": [],
   "source": []
  },
  {
   "cell_type": "markdown",
   "metadata": {},
   "source": [
    "# Three sets of shap_features preds different profits:\n",
    "* x_00, x_01, x_02"
   ]
  },
  {
   "cell_type": "code",
   "execution_count": 77,
   "metadata": {
    "ExecuteTime": {
     "end_time": "2020-02-11T01:01:37.494042Z",
     "start_time": "2020-02-11T01:01:37.445007Z"
    }
   },
   "outputs": [],
   "source": [
    "SPY = pd.read_pickle('../data/SPY_cum_ret.pkl')\n",
    "SPY = SPY.loc['2004-09-01':'2018-09-30']#check if need to change\n",
    "SPY = SPY.resample('Q').ffill()\n",
    "SPY['spy_cum_ret'] = (SPY['spy_cum_ret'] - SPY['spy_cum_ret'][0] + 1)\n",
    "SPY['strategy_00'] = x_00\n",
    "SPY['strategy_01'] = x_01\n",
    "SPY['strategy_02'] = x_02"
   ]
  },
  {
   "cell_type": "code",
   "execution_count": 78,
   "metadata": {
    "ExecuteTime": {
     "end_time": "2020-02-11T01:01:41.397432Z",
     "start_time": "2020-02-11T01:01:41.198433Z"
    }
   },
   "outputs": [
    {
     "data": {
      "image/png": "[encoded data removed]",
      "text/plain": [
       "<Figure size 640x480 with 1 Axes>"
      ]
     },
     "metadata": {},
     "output_type": "display_data"
    }
   ],
   "source": [
    "SPY.plot();"
   ]
  },
  {
   "cell_type": "code",
   "execution_count": 79,
   "metadata": {
    "ExecuteTime": {
     "end_time": "2020-02-11T01:01:46.417678Z",
     "start_time": "2020-02-11T01:01:46.157159Z"
    },
    "scrolled": true
   },
   "outputs": [
    {
     "data": {
      "image/png": "[encoded data removed]",
      "text/plain": [
       "<Figure size 640x480 with 1 Axes>"
      ]
     },
     "metadata": {},
     "output_type": "display_data"
    }
   ],
   "source": [
    "SPY = SPY.resample('Y').ffill()\n",
    "SPY.plot();"
   ]
  },
  {
   "cell_type": "code",
   "execution_count": 80,
   "metadata": {},
   "outputs": [],
   "source": [
    "spy_ret = (SPY['spy_cum_ret'] - 1).diff().values[1:]"
   ]
  },
  {
   "cell_type": "code",
   "execution_count": 81,
   "metadata": {},
   "outputs": [],
   "source": [
    "strategy_df = SPY.iloc[:,1:]"
   ]
  },
  {
   "cell_type": "code",
   "execution_count": 82,
   "metadata": {},
   "outputs": [],
   "source": [
    "def summary_data(df_ret,spy_ret=spy_ret):\n",
    "    strategy_mean_ret = (df_ret - 1).diff().mean()\n",
    "    strategy_std = (df_ret - 1).diff().std()\n",
    "    strategy_sr = strategy_mean_ret/strategy_std\n",
    "    \n",
    "    strategy_ret = (df_ret - 1).diff().values[1:]\n",
    "    beta = (np.cov(spy_ret,strategy_ret)/np.var(spy_ret))[1,0]\n",
    "    \n",
    "    residual_ret = strategy_ret - beta * spy_ret\n",
    "    IR = np.mean(residual_ret)/np.std(residual_ret)\n",
    "    \n",
    "    alpha = np.mean(residual_ret)\n",
    "    \n",
    "    ending_cum_ret = df_ret[-1]\n",
    "    \n",
    "    return {'Sharpe ratio':strategy_sr,'beta':beta,'alpha':alpha,'IR':IR,'Strat_cum_ret( x[-1] )':ending_cum_ret}"
   ]
  },
  {
   "cell_type": "code",
   "execution_count": 83,
   "metadata": {},
   "outputs": [],
   "source": [
    "summary_df = pd.DataFrame(columns=['Sharpe ratio','beta','alpha','IR','Strat_cum_ret( x[-1] )'],index=strategy_df.columns.T)"
   ]
  },
  {
   "cell_type": "code",
   "execution_count": 84,
   "metadata": {},
   "outputs": [],
   "source": [
    "summary_df.loc['strategy_00']=summary_data(SPY['strategy_00'])\n",
    "summary_df.loc['strategy_01']=summary_data(SPY['strategy_01'])\n",
    "summary_df.loc['strategy_02']=summary_data(SPY['strategy_02'])"
   ]
  },
  {
   "cell_type": "code",
   "execution_count": 85,
   "metadata": {},
   "outputs": [
    {
     "data": {
      "text/html": [
       "<div>\n",
       "<style scoped>\n",
       "    .dataframe tbody tr th:only-of-type {\n",
       "        vertical-align: middle;\n",
       "    }\n",
       "\n",
       "    .dataframe tbody tr th {\n",
       "        vertical-align: top;\n",
       "    }\n",
       "\n",
       "    .dataframe thead th {\n",
       "        text-align: right;\n",
       "    }\n",
       "</style>\n",
       "<table border=\"1\" class=\"dataframe\">\n",
       "  <thead>\n",
       "    <tr style=\"text-align: right;\">\n",
       "      <th></th>\n",
       "      <th>Sharpe ratio</th>\n",
       "      <th>beta</th>\n",
       "      <th>alpha</th>\n",
       "      <th>IR</th>\n",
       "      <th>Strat_cum_ret( x[-1] )</th>\n",
       "    </tr>\n",
       "  </thead>\n",
       "  <tbody>\n",
       "    <tr>\n",
       "      <th>strategy_00</th>\n",
       "      <td>0.768349</td>\n",
       "      <td>1.772974</td>\n",
       "      <td>0.034125</td>\n",
       "      <td>0.386166</td>\n",
       "      <td>4.021425</td>\n",
       "    </tr>\n",
       "    <tr>\n",
       "      <th>strategy_01</th>\n",
       "      <td>0.973039</td>\n",
       "      <td>1.704836</td>\n",
       "      <td>0.090041</td>\n",
       "      <td>0.953026</td>\n",
       "      <td>4.707773</td>\n",
       "    </tr>\n",
       "    <tr>\n",
       "      <th>strategy_02</th>\n",
       "      <td>0.833611</td>\n",
       "      <td>1.891637</td>\n",
       "      <td>0.049297</td>\n",
       "      <td>0.70198</td>\n",
       "      <td>4.40123</td>\n",
       "    </tr>\n",
       "  </tbody>\n",
       "</table>\n",
       "</div>"
      ],
      "text/plain": [
       "            Sharpe ratio      beta     alpha        IR Strat_cum_ret( x[-1] )\n",
       "strategy_00     0.768349  1.772974  0.034125  0.386166               4.021425\n",
       "strategy_01     0.973039  1.704836  0.090041  0.953026               4.707773\n",
       "strategy_02     0.833611  1.891637  0.049297   0.70198                4.40123"
      ]
     },
     "execution_count": 85,
     "metadata": {},
     "output_type": "execute_result"
    }
   ],
   "source": [
    "summary_df"
   ]
  },
  {
   "cell_type": "code",
   "execution_count": 86,
   "metadata": {},
   "outputs": [],
   "source": [
    "def SharpeRatio(returns):\n",
    "    strategy_mean_ret = (returns - 1).diff().mean()\n",
    "    strategy_std = (returns - 1).diff().std()\n",
    "    strategy_sr = strategy_mean_ret/strategy_std\n",
    "    return strategy_sr"
   ]
  },
  {
   "cell_type": "code",
   "execution_count": 87,
   "metadata": {},
   "outputs": [],
   "source": [
    "def beta(strat_ret,spy_ret=spy_ret):\n",
    "    strategy_ret = (strat_ret - 1).diff().values[1:]\n",
    "    beta = (np.cov(spy_ret,strategy_ret)/np.var(spy_ret))[1,0]\n",
    "    return beta"
   ]
  },
  {
   "cell_type": "code",
   "execution_count": 88,
   "metadata": {},
   "outputs": [],
   "source": [
    "def InfoRatio(strat_ret,beta):\n",
    "    strategy_ret = (strat_ret - 1).diff().values[1:]\n",
    "    residual_ret = strategy_ret - beta * spy_ret\n",
    "    IR = np.mean(residual_ret)/np.std(residual_ret)\n",
    "    return IR"
   ]
  },
  {
   "cell_type": "code",
   "execution_count": 89,
   "metadata": {},
   "outputs": [],
   "source": [
    "def alpha(strat_ret,spy_ret=spy_ret):\n",
    "    strategy_ret = (strat_ret - 1).diff().values[1:]\n",
    "    residual_ret = strategy_ret - beta * spy_ret\n",
    "    alpha = np.mean(residual_ret)\n",
    "    return alpha"
   ]
  },
  {
   "cell_type": "code",
   "execution_count": null,
   "metadata": {},
   "outputs": [],
   "source": []
  },
  {
   "cell_type": "code",
   "execution_count": null,
   "metadata": {},
   "outputs": [],
   "source": []
  },
  {
   "cell_type": "code",
   "execution_count": null,
   "metadata": {},
   "outputs": [],
   "source": []
  },
  {
   "cell_type": "markdown",
   "metadata": {},
   "source": [
    "# Objective Using Max Drawdown ( failed so far"
   ]
  },
  {
   "cell_type": "code",
   "execution_count": 162,
   "metadata": {},
   "outputs": [],
   "source": [
    "#return a positive number as the mdd\n",
    "def max_drawdown(returns):\n",
    "        local_max = [n for n in range(len(returns)-1) if ((n==0) and (returns[0] > returns[1])) or \n",
    "           ((n > 0) and  (returns[n-1]<returns[n]) and (returns[n+1]<returns[n]))] \n",
    "        \n",
    "        local_min = [n for n in range(1,len(returns)) if ((n == len(returns)-1) and (returns[-1] < returns[-2])) or\n",
    "                (returns[n-1]>returns[n]) and (returns[n+1]>returns[n])]\n",
    "        \n",
    "        def next_local_min(n):\n",
    "            if [m for m in local_min if m > n]:\n",
    "                return [m for m in local_min if m > n][0]\n",
    "            else: return None\n",
    "        \n",
    "        drawdowns = [(n,next_local_min(n)) for n in local_max]\n",
    "        drawdown_values = [returns[n] - returns[m] for (n,m) in drawdowns if m != None]\n",
    "        if drawdown_values:\n",
    "            return  np.max(drawdown_values)\n",
    "        else: return 0.0"
   ]
  },
  {
   "cell_type": "code",
   "execution_count": 161,
   "metadata": {},
   "outputs": [],
   "source": [
    "def objective_mdd(trial:Trial,train=None,labels=None,val=None,val_labels=None,val_rets=None):\n",
    "\n",
    "    ada_m_depth = trial.suggest_int('max_depth',1,3,step=1)\n",
    "    ada_n_estimators = trial.suggest_int('n_estimators', 10,100,step=10)\n",
    "    ada_learning_rate = trial.suggest_float('learning_rate',0.1,0.5, step=0.1)\n",
    "\n",
    "    \n",
    "    ada_clf = AdaBoostClassifier(DecisionTreeClassifier(max_depth=ada_m_depth),\n",
    "                                 n_estimators=ada_n_estimators,\n",
    "                                 learning_rate=ada_learning_rate,\n",
    "                                 algorithm=\"SAMME.R\")\n",
    "\n",
    "    ada_clf.fit(train,labels)\n",
    "    preds = ada_clf.predict(val)\n",
    "    \n",
    "    single_profit = preds * val_rets\n",
    "    single_profit_df = single_profit.to_frame()\n",
    "    daily_profit = single_profit_df.groupby(single_profit_df.index).sum()\n",
    "    daily_returns = daily_profit.cumsum()\n",
    "    mdd_val=max_drawdown(daily_returns.iloc[:,0])\n",
    "\n",
    " \n",
    "    return mdd_val\n"
   ]
  },
  {
   "cell_type": "code",
   "execution_count": 163,
   "metadata": {
    "ExecuteTime": {
     "end_time": "2019-05-08T00:35:01.034868Z",
     "start_time": "2019-05-08T00:35:01.019241Z"
    }
   },
   "outputs": [],
   "source": [
    "study_mdd = optuna.create_study(direction=\"minimize\")"
   ]
  },
  {
   "cell_type": "code",
   "execution_count": 164,
   "metadata": {},
   "outputs": [
    {
     "name": "stdout",
     "output_type": "stream",
     "text": [
      "CPU times: user 6min 40s, sys: 8.58 s, total: 6min 49s\n",
      "Wall time: 48.4 s\n"
     ]
    }
   ],
   "source": [
    "%%time\n",
    "study_mdd.optimize(partial(objective_mdd,train=train_1,labels=y_1,val=valid,val_labels=y_valid,\\\n",
    "                       val_rets=valid_stock_returns), n_trials=20,n_jobs=-1)\n"
   ]
  },
  {
   "cell_type": "code",
   "execution_count": 165,
   "metadata": {},
   "outputs": [
    {
     "data": {
      "text/plain": [
       "{'max_depth': 3, 'n_estimators': 40, 'learning_rate': 0.4}"
      ]
     },
     "execution_count": 165,
     "metadata": {},
     "output_type": "execute_result"
    }
   ],
   "source": [
    "study_mdd.best_params"
   ]
  }
 ],
 "metadata": {
  "kernelspec": {
   "display_name": "Python 3 (ipykernel)",
   "language": "python",
   "name": "python3"
  },
  "language_info": {
   "codemirror_mode": {
    "name": "ipython",
    "version": 3
   },
   "file_extension": ".py",
   "mimetype": "text/x-python",
   "name": "python",
   "nbconvert_exporter": "python",
   "pygments_lexer": "ipython3",
   "version": "3.9.13"
  },
  "latex_envs": {
   "LaTeX_envs_menu_present": true,
   "autoclose": false,
   "autocomplete": true,
   "bibliofile": "biblio.bib",
   "cite_by": "apalike",
   "current_citInitial": 1,
   "eqLabelWithNumbers": true,
   "eqNumInitial": 1,
   "hotkeys": {
    "equation": "Ctrl-E",
    "itemize": "Ctrl-I"
   },
   "labels_anchors": false,
   "latex_user_defs": false,
   "report_style_numbering": false,
   "user_envs_cfg": false
  }
 },
 "nbformat": 4,
 "nbformat_minor": 2
}
